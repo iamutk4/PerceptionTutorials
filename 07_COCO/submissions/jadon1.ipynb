{
 "cells": [
  {
   "cell_type": "code",
   "execution_count": 2,
   "id": "66529d4d",
   "metadata": {},
   "outputs": [],
   "source": [
    "import json\n",
    "file = open('instances_val2017.json')\n",
    "data = json.load(file)"
   ]
  },
  {
   "cell_type": "code",
   "execution_count": 3,
   "id": "eda56240",
   "metadata": {},
   "outputs": [
    {
     "name": "stdout",
     "output_type": "stream",
     "text": [
      "info\n",
      "licenses\n",
      "images\n",
      "annotations\n",
      "categories\n"
     ]
    }
   ],
   "source": [
    "for i in data:\n",
    "    print(i)"
   ]
  },
  {
   "cell_type": "code",
   "execution_count": 5,
   "id": "17a52fe2",
   "metadata": {},
   "outputs": [],
   "source": [
    "with open('annotations.txt') as f:\n",
    "    lines = f.readlines()"
   ]
  },
  {
   "cell_type": "code",
   "execution_count": 6,
   "id": "7c81cd14",
   "metadata": {},
   "outputs": [],
   "source": [
    "images = data['images']\n",
    "ann = data['annotations']\n",
    "cat = data['categories']\n",
    "\n",
    "final = []\n",
    "for i in range(10):\n",
    "    tmp = {'image': {}, 'annotations': {}}\n",
    "    tmp['info'] = 'info'\n",
    "    tmp['images'] = ['image']\n",
    "    tmp['annotation'] = ['annotations']\n",
    "    tmp['licenses'] = ['licenses']\n",
    "    tmp['image']['id'] = images[i]['id']\n",
    "    tmp['image']['width'] = images[i]['width']\n",
    "    tmp['image']['height'] = images[i]['height']\n",
    "    tmp['image']['filename'] = images[i]['file_name']\n",
    "    tmp['annotations']['area'] = ann[i]['area']\n",
    "    tmp['annotations']['bbox'] = ann[i]['bbox']\n",
    "    tmp['annotations']['iscrowd'] = 0\n",
    "    tmp['category'] = cat[i]['name']\n",
    "    final.append(tmp)"
   ]
  },
  {
   "cell_type": "code",
   "execution_count": 7,
   "id": "38d61fd4",
   "metadata": {},
   "outputs": [
    {
     "data": {
      "text/plain": [
       "[{'image': {'id': 397133,\n",
       "   'width': 640,\n",
       "   'height': 427,\n",
       "   'filename': '000000397133.jpg'},\n",
       "  'annotations': {'area': 702.1057499999998,\n",
       "   'bbox': [473.07, 395.93, 38.65, 28.67],\n",
       "   'iscrowd': 0},\n",
       "  'info': 'info',\n",
       "  'images': ['image'],\n",
       "  'annotation': ['annotations'],\n",
       "  'licenses': ['licenses'],\n",
       "  'category': 'person'},\n",
       " {'image': {'id': 37777,\n",
       "   'width': 352,\n",
       "   'height': 230,\n",
       "   'filename': '000000037777.jpg'},\n",
       "  'annotations': {'area': 27718.476299999995,\n",
       "   'bbox': [272.1, 200.23, 151.97, 279.77],\n",
       "   'iscrowd': 0},\n",
       "  'info': 'info',\n",
       "  'images': ['image'],\n",
       "  'annotation': ['annotations'],\n",
       "  'licenses': ['licenses'],\n",
       "  'category': 'bicycle'},\n",
       " {'image': {'id': 252219,\n",
       "   'width': 640,\n",
       "   'height': 428,\n",
       "   'filename': '000000252219.jpg'},\n",
       "  'annotations': {'area': 78969.31690000003,\n",
       "   'bbox': [124.71, 196.18, 372.85, 356.81],\n",
       "   'iscrowd': 0},\n",
       "  'info': 'info',\n",
       "  'images': ['image'],\n",
       "  'annotation': ['annotations'],\n",
       "  'licenses': ['licenses'],\n",
       "  'category': 'car'},\n",
       " {'image': {'id': 87038,\n",
       "   'width': 640,\n",
       "   'height': 480,\n",
       "   'filename': '000000087038.jpg'},\n",
       "  'annotations': {'area': 108316.66515000002,\n",
       "   'bbox': [112.71, 154.82, 367.29, 479.35],\n",
       "   'iscrowd': 0},\n",
       "  'info': 'info',\n",
       "  'images': ['image'],\n",
       "  'annotation': ['annotations'],\n",
       "  'licenses': ['licenses'],\n",
       "  'category': 'motorcycle'},\n",
       " {'image': {'id': 174482,\n",
       "   'width': 640,\n",
       "   'height': 388,\n",
       "   'filename': '000000174482.jpg'},\n",
       "  'annotations': {'area': 75864.53530000002,\n",
       "   'bbox': [200.61, 89.65, 400.22, 251.02],\n",
       "   'iscrowd': 0},\n",
       "  'info': 'info',\n",
       "  'images': ['image'],\n",
       "  'annotation': ['annotations'],\n",
       "  'licenses': ['licenses'],\n",
       "  'category': 'airplane'},\n",
       " {'image': {'id': 403385,\n",
       "   'width': 640,\n",
       "   'height': 511,\n",
       "   'filename': '000000403385.jpg'},\n",
       "  'annotations': {'area': 16932.135100000003,\n",
       "   'bbox': [0.0, 421.09, 154.53, 208.61],\n",
       "   'iscrowd': 0},\n",
       "  'info': 'info',\n",
       "  'images': ['image'],\n",
       "  'annotation': ['annotations'],\n",
       "  'licenses': ['licenses'],\n",
       "  'category': 'bus'},\n",
       " {'image': {'id': 6818,\n",
       "   'width': 427,\n",
       "   'height': 640,\n",
       "   'filename': '000000006818.jpg'},\n",
       "  'annotations': {'area': 32002.702999999998,\n",
       "   'bbox': [427.58, 77.87, 188.88, 285.91],\n",
       "   'iscrowd': 0},\n",
       "  'info': 'info',\n",
       "  'images': ['image'],\n",
       "  'annotation': ['annotations'],\n",
       "  'licenses': ['licenses'],\n",
       "  'category': 'train'},\n",
       " {'image': {'id': 480985,\n",
       "   'width': 375,\n",
       "   'height': 500,\n",
       "   'filename': '000000480985.jpg'},\n",
       "  'annotations': {'area': 16694.404700000003,\n",
       "   'bbox': [197.97, 117.22, 170.45, 222.07],\n",
       "   'iscrowd': 0},\n",
       "  'info': 'info',\n",
       "  'images': ['image'],\n",
       "  'annotation': ['annotations'],\n",
       "  'licenses': ['licenses'],\n",
       "  'category': 'truck'},\n",
       " {'image': {'id': 458054,\n",
       "   'width': 640,\n",
       "   'height': 426,\n",
       "   'filename': '000000458054.jpg'},\n",
       "  'annotations': {'area': 9496.329899999997,\n",
       "   'bbox': [61.68, 389.34, 130.77, 138.47],\n",
       "   'iscrowd': 0},\n",
       "  'info': 'info',\n",
       "  'images': ['image'],\n",
       "  'annotation': ['annotations'],\n",
       "  'licenses': ['licenses'],\n",
       "  'category': 'boat'},\n",
       " {'image': {'id': 331352,\n",
       "   'width': 351,\n",
       "   'height': 500,\n",
       "   'filename': '000000331352.jpg'},\n",
       "  'annotations': {'area': 2613.772699999999,\n",
       "   'bbox': [86.93, 90.76, 82.5, 74.54],\n",
       "   'iscrowd': 0},\n",
       "  'info': 'info',\n",
       "  'images': ['image'],\n",
       "  'annotation': ['annotations'],\n",
       "  'licenses': ['licenses'],\n",
       "  'category': 'traffic light'}]"
      ]
     },
     "execution_count": 7,
     "metadata": {},
     "output_type": "execute_result"
    }
   ],
   "source": [
    "final"
   ]
  },
  {
   "cell_type": "code",
   "execution_count": null,
   "id": "817b032f",
   "metadata": {},
   "outputs": [],
   "source": []
  }
 ],
 "metadata": {
  "kernelspec": {
   "display_name": "Python 3 (ipykernel)",
   "language": "python",
   "name": "python3"
  },
  "language_info": {
   "codemirror_mode": {
    "name": "ipython",
    "version": 3
   },
   "file_extension": ".py",
   "mimetype": "text/x-python",
   "name": "python",
   "nbconvert_exporter": "python",
   "pygments_lexer": "ipython3",
   "version": "3.9.12"
  }
 },
 "nbformat": 4,
 "nbformat_minor": 5
}
